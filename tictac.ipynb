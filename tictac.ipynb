{
 "cells": [
  {
   "cell_type": "code",
   "execution_count": 1,
   "id": "0dcc1f91-2cf6-4b8f-bd8b-055c61329307",
   "metadata": {},
   "outputs": [],
   "source": [
    "from IPython.display import clear_output\n",
    "def display_board(board):\n",
    "    clear_output()\n",
    "    print(board[7]+'|'+board[8]+'|'+board[9])\n",
    "    print(board[4]+'|'+board[5]+'|'+board[6])\n",
    "    print(board[1]+'|'+board[2]+'|'+board[3])"
   ]
  },
  {
   "cell_type": "code",
   "execution_count": 2,
   "id": "fa4fe65b-c013-4385-b55d-b4ae100ae2a7",
   "metadata": {},
   "outputs": [
    {
     "name": "stdout",
     "output_type": "stream",
     "text": [
      "X|O|X\n",
      "O|X|O\n",
      "X|O|X\n"
     ]
    }
   ],
   "source": [
    "test_board=['#','X','O','X','O','X','O','X','O','X']\n",
    "display_board(test_board)"
   ]
  },
  {
   "cell_type": "code",
   "execution_count": 5,
   "id": "52439f5d-13c3-43cc-bdf3-ed18d7c530f1",
   "metadata": {},
   "outputs": [],
   "source": [
    "def player_input():\n",
    "    '''\n",
    "    OUTPUT =( player 1 marker , player 2 marker)\n",
    "    '''\n",
    "    marker =''\n",
    "    #keep asking player 1 to choose X or O\n",
    "    while not (marker == 'X' or marker == 'O'):\n",
    "        marker = input('Player 1: choose X or O: ').upper()\n",
    "    if marker =='X':\n",
    "        return ('X','O')\n",
    "    else:\n",
    "        return ('O','X')"
   ]
  },
  {
   "cell_type": "code",
   "execution_count": 7,
   "id": "54b08de2-7239-412f-8057-d88912ddfaa9",
   "metadata": {},
   "outputs": [
    {
     "name": "stdin",
     "output_type": "stream",
     "text": [
      "Player 1: choose X or O:  x\n"
     ]
    }
   ],
   "source": [
    "player1_marker , player2_marker = player_input()"
   ]
  },
  {
   "cell_type": "code",
   "execution_count": 9,
   "id": "7618cfec-f663-46e0-a03b-62bf54786db0",
   "metadata": {},
   "outputs": [
    {
     "data": {
      "text/plain": [
       "'O'"
      ]
     },
     "execution_count": 9,
     "metadata": {},
     "output_type": "execute_result"
    }
   ],
   "source": [
    "player2_marker"
   ]
  },
  {
   "cell_type": "code",
   "execution_count": 11,
   "id": "f743a4e6-1837-40fe-b2af-f0595e167e91",
   "metadata": {},
   "outputs": [],
   "source": [
    "def place_marker(board , marker, position):\n",
    "    board[position] = marker"
   ]
  },
  {
   "cell_type": "code",
   "execution_count": 13,
   "id": "c2f2fc5b-9374-4aff-a0b5-60f02063ea1a",
   "metadata": {},
   "outputs": [
    {
     "data": {
      "text/plain": [
       "['#', 'X', 'O', 'X', 'O', 'X', 'O', 'X', 'O', 'X']"
      ]
     },
     "execution_count": 13,
     "metadata": {},
     "output_type": "execute_result"
    }
   ],
   "source": [
    "test_board"
   ]
  },
  {
   "cell_type": "code",
   "execution_count": 15,
   "id": "6e86dfd6-4518-448a-8b90-dd5b81743752",
   "metadata": {},
   "outputs": [
    {
     "name": "stdout",
     "output_type": "stream",
     "text": [
      "X|$|X\n",
      "O|X|O\n",
      "X|O|X\n"
     ]
    }
   ],
   "source": [
    "place_marker(test_board,'$',8)\n",
    "display_board(test_board)\n"
   ]
  },
  {
   "cell_type": "code",
   "execution_count": 17,
   "id": "f74c86b8-1d81-4bbc-ac55-6e6b2bd31c2d",
   "metadata": {},
   "outputs": [],
   "source": [
    "def win_check(board,mark):\n",
    "    #win tic tac toe\n",
    "    return ((board[7] ==mark and board[8] ==mark and board[9] ==mark) or\n",
    "    (board[4] ==mark and board[5] ==mark and board[6] ==mark) or\n",
    "    (board[1] ==mark and board[2] ==mark and board[3] ==mark) or\n",
    "    (board[7] ==mark and board[4] ==mark and board[1] ==mark) or\n",
    "    (board[8] ==mark and board[5] ==mark and board[2] ==mark) or\n",
    "    (board[9] ==mark and board[6] ==mark and board[3] ==mark) or\n",
    "    (board[7] ==mark and board[5] ==mark and board[3] ==mark) or\n",
    "    (board[9] ==mark and board[5] ==mark and board[1] ==mark))"
   ]
  },
  {
   "cell_type": "code",
   "execution_count": 19,
   "id": "482cbb15-013c-4f3e-b143-55ee4bb5b5b5",
   "metadata": {},
   "outputs": [
    {
     "name": "stdout",
     "output_type": "stream",
     "text": [
      "X|$|X\n",
      "O|X|O\n",
      "X|O|X\n"
     ]
    },
    {
     "data": {
      "text/plain": [
       "True"
      ]
     },
     "execution_count": 19,
     "metadata": {},
     "output_type": "execute_result"
    }
   ],
   "source": [
    "display_board(test_board)\n",
    "win_check(test_board,'X')"
   ]
  },
  {
   "cell_type": "code",
   "execution_count": 21,
   "id": "dd8944fe-77d1-41ea-a8fc-834c26334ecf",
   "metadata": {},
   "outputs": [],
   "source": [
    "import random\n",
    "def choose_first():\n",
    "    flip=random.randint(0,1)\n",
    "    if flip==0:\n",
    "        return 'Player 1'\n",
    "    else:\n",
    "        return 'Player 2'"
   ]
  },
  {
   "cell_type": "code",
   "execution_count": 23,
   "id": "54c9c8e4-b3bf-43b8-af01-ea48d194086a",
   "metadata": {},
   "outputs": [],
   "source": [
    "def space_check(board, position):\n",
    "    return board[position]==' '"
   ]
  },
  {
   "cell_type": "code",
   "execution_count": 25,
   "id": "34c584f8-5dda-45d7-a6a6-d2507c629354",
   "metadata": {},
   "outputs": [],
   "source": [
    "def full_board_check(board):\n",
    "    for i in range(1,10):\n",
    "        if space_check(board,i):\n",
    "            return False\n",
    "    # board is full if we return true\n",
    "    return True"
   ]
  },
  {
   "cell_type": "code",
   "execution_count": 27,
   "id": "af0cae5d-0023-42bb-afb0-7c30f3704aa1",
   "metadata": {},
   "outputs": [],
   "source": [
    "def player_choice(board):\n",
    "    position =0\n",
    "    while position not in [1,2,3,4,5,6,7,8,9] or not space_check(board,position):\n",
    "        position = int(input('Choose a position: (1-9) '))\n",
    "    return position"
   ]
  },
  {
   "cell_type": "code",
   "execution_count": 29,
   "id": "226e1349-8302-429b-95af-ebe37ad944ea",
   "metadata": {},
   "outputs": [],
   "source": [
    "def replay():\n",
    "    choice=input(\"play again ? enter yes or no \")\n",
    "    return choice=='Yes'\n",
    "    "
   ]
  },
  {
   "cell_type": "code",
   "execution_count": null,
   "id": "d7238440-ada0-46d6-9db7-75c209f27631",
   "metadata": {},
   "outputs": [
    {
     "name": "stdout",
     "output_type": "stream",
     "text": [
      "O|O|X\n",
      "O| |X\n",
      "O|X| \n",
      "Player 2 has won\n"
     ]
    }
   ],
   "source": [
    "#while loop to keep running the game\n",
    "print('Welcome to Tic Tac Toe')\n",
    "while True:\n",
    "    #play the game\n",
    "    ##set everything up (board , whose first,choose markers X,O)\n",
    "    the_board=[' ']*10\n",
    "    player1_marker,player2_marker=player_input()\n",
    "    turn=choose_first()\n",
    "    print(turn + 'will go first')\n",
    "    play_game=input('Ready to play? y or n? ')\n",
    "    if play_game =='y':\n",
    "        game_on =True\n",
    "    else:\n",
    "        game_on = False\n",
    "    #game play\n",
    "    while game_on:\n",
    "        if turn=='Player 1':\n",
    "            #show the board\n",
    "            display_board(the_board)\n",
    "            #choose a position\n",
    "            position = player_choice(the_board)\n",
    "            #place the marker on the position\n",
    "            place_marker(the_board,player1_marker,position)\n",
    "            #check if they won\n",
    "            if win_check(the_board,player1_marker):\n",
    "                display_board(the_board)\n",
    "                print('Player 1 has won')\n",
    "                game_on = False\n",
    "            else:\n",
    "                if full_board_check(the_board):\n",
    "                    display_board(the_board)\n",
    "                    print('Tie game')\n",
    "                    game_on =False\n",
    "                else:\n",
    "                    turn='Player 2'\n",
    "        else:\n",
    "            #show the board\n",
    "            display_board(the_board)\n",
    "            #choose a position\n",
    "            position = player_choice(the_board)\n",
    "            #place the marker on the position\n",
    "            place_marker(the_board,player2_marker,position)\n",
    "            #check if they won\n",
    "            if win_check(the_board,player2_marker):\n",
    "                display_board(the_board)\n",
    "                print('Player 2 has won')\n",
    "                game_on = False\n",
    "            else:\n",
    "                if full_board_check(the_board):\n",
    "                    display_board(the_board)\n",
    "                    print('Tie game')\n",
    "                    game_on=False\n",
    "                else:\n",
    "                    turn='Player 1'\n",
    "            \n",
    "    if not replay():\n",
    "        break\n",
    "    #break out of the while loop on replay()"
   ]
  },
  {
   "cell_type": "code",
   "execution_count": null,
   "id": "26a6c6e7-0d2b-41d2-b25f-32ab16372c4e",
   "metadata": {},
   "outputs": [],
   "source": []
  }
 ],
 "metadata": {
  "kernelspec": {
   "display_name": "Python 3 (ipykernel)",
   "language": "python",
   "name": "python3"
  },
  "language_info": {
   "codemirror_mode": {
    "name": "ipython",
    "version": 3
   },
   "file_extension": ".py",
   "mimetype": "text/x-python",
   "name": "python",
   "nbconvert_exporter": "python",
   "pygments_lexer": "ipython3",
   "version": "3.12.7"
  }
 },
 "nbformat": 4,
 "nbformat_minor": 5
}
